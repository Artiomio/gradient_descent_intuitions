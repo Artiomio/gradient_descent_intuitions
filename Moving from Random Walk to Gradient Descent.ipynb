{
 "cells": [
  {
   "cell_type": "code",
   "execution_count": 2,
   "metadata": {
    "collapsed": true
   },
   "outputs": [],
   "source": [
    "%matplotlib inline\n",
    "import random\n",
    "import time\n",
    "from tqdm import tqdm\n",
    "import matplotlib.pyplot as plt\n",
    "x = [1, 2, 3, 4, 5, 7, 8, 9, 10, 12, ]\n",
    "y = [122, 131, 137, 153, 161, 179, 185, 199, 201, 221, ]\n",
    "\n"
   ]
  },
  {
   "cell_type": "markdown",
   "metadata": {},
   "source": [
    "<h3>Определяем функцию ошибки (cost function)</h3>"
   ]
  },
  {
   "cell_type": "code",
   "execution_count": 3,
   "metadata": {
    "collapsed": true
   },
   "outputs": [],
   "source": [
    "def cost(k, b):\n",
    "    cost_function = 0 # Или \"Error function\" - фунция ошибки \n",
    "    # Пробегаемся по всем набору данных и вычисляем суммарное отклонение от желаемого результата\n",
    "    for i in range(0, len(x)):\n",
    "        # Рассматриваем пару чисел x & y c номером i\n",
    "        # Есть у нас x[i] и y[i]\n",
    "        delta_error = ((x[i]*k + b) - y[i])**2\n",
    "        cost_function = cost_function + delta_error\n",
    "    return cost_function / len(x)\n"
   ]
  },
  {
   "cell_type": "markdown",
   "metadata": {},
   "source": [
    "<h3>Первая реализация обучения - случайное блуждание</h3>"
   ]
  },
  {
   "cell_type": "code",
   "execution_count": 4,
   "metadata": {
    "collapsed": true
   },
   "outputs": [],
   "source": [
    "def training_0(k0, b0, n):\n",
    "    k, b = k0, b0\n",
    "    for i in tqdm(range(n)):\n",
    "        k_step = random.random()*2 - 1\n",
    "        b_step = random.random()*2 - 1\n",
    "        c1 = cost(k, b)\n",
    "        c2 = cost(k + k_step, b + b_step)\n",
    "        if c2 < c1:\n",
    "            k = k + k_step\n",
    "            b = b + b_step\n",
    "\n",
    "    return (k, b)"
   ]
  },
  {
   "cell_type": "code",
   "execution_count": 5,
   "metadata": {},
   "outputs": [
    {
     "name": "stderr",
     "output_type": "stream",
     "text": []
    },
    {
     "name": "stdout",
     "output_type": "stream",
     "text": [
      "********************************************************************************\n",
      " *** Получили k = 9.055942971685639  и b = 113.65571443621002 ***\n",
      "********************************************************************************\n",
      "Эталонное k = 9.057899  и b = 113.646816\n",
      "Вычисление выполнялось 7.250932216644287 сек\n"
     ]
    }
   ],
   "source": [
    "# Running training_0\n",
    "start = time.time()\n",
    "k, b = training_0(k0=1, b0=1, n=200000)\n",
    "print(\"*\" * 80)\n",
    "print(\" *** Получили k =\", k, \" и b =\", b, \"***\")\n",
    "print(\"*\" * 80)\n",
    "print(\"Эталонное k = 9.057899  и b = 113.646816\")\n",
    "print(\"Вычисление выполнялось\", time.time() - start, \"сек\")"
   ]
  },
  {
   "cell_type": "markdown",
   "metadata": {},
   "source": [
    "<h3>Разделяем добавки для <i>k</i> и <i>b</i></h3>"
   ]
  },
  {
   "cell_type": "code",
   "execution_count": 5,
   "metadata": {
    "collapsed": true
   },
   "outputs": [],
   "source": [
    "# Разделили случайные добавки для k и b\n",
    "def training_1(k0, b0, n):\n",
    "    k, b = k0, b0\n",
    "    for i in range(n):\n",
    "        c1 = cost(k, b)\n",
    "        \n",
    "        k_step = random.random()*2 - 1 # Небольшая случайная добавка к коэффициенту k\n",
    "        c2 = cost(k + k_step, b)\n",
    "        if c2 < c1: # если мы идём в правильном направлении\n",
    "            delta_k = k_step\n",
    "        else:\n",
    "            delta_k = 0\n",
    "        \n",
    "        \n",
    "        \n",
    "        b_step = random.random()*2 - 1\n",
    "        c2 = cost(k, b + b_step)\n",
    "        if c2 < c1: # Уменьшилась ли ошибка?\n",
    "            delta_b = b_step\n",
    "        else:\n",
    "            delta_b = 0\n",
    "        \n",
    "        \n",
    "        # updating weights\n",
    "        k = k + delta_k\n",
    "        b = b + delta_b\n",
    "    \n",
    "    return (k, b)"
   ]
  },
  {
   "cell_type": "code",
   "execution_count": 6,
   "metadata": {},
   "outputs": [
    {
     "name": "stdout",
     "output_type": "stream",
     "text": [
      "********************************************************************************\n",
      " *** Получили k = 9.058310053638106  и b = 113.6443159995615 ***\n",
      "********************************************************************************\n",
      "Эталонное k = 9.057899  и b = 113.646816\n",
      "Вычисление выполнялось 0.4280526638031006 сек\n"
     ]
    }
   ],
   "source": [
    "# Running training_1\n",
    "start = time.time()\n",
    "k, b = training_1(k0=1, b0=1, n=10000)\n",
    "print(\"*\" * 80)\n",
    "print(\" *** Получили k =\", k, \" и b =\", b, \"***\")\n",
    "print(\"*\" * 80)\n",
    "print(\"Эталонное k = 9.057899  и b = 113.646816\")\n",
    "print(\"Вычисление выполнялось\", time.time() - start, \"сек\")"
   ]
  },
  {
   "cell_type": "markdown",
   "metadata": {},
   "source": [
    "<h3>Теперь используем вычитание добавок (отрицательные шажки)</h3>"
   ]
  },
  {
   "cell_type": "code",
   "execution_count": 7,
   "metadata": {
    "collapsed": true
   },
   "outputs": [],
   "source": [
    "# Теперь еще и вычитаем их \n",
    "def training_2(k0, b0, n):\n",
    "    k, b = k0, b0\n",
    "    for i in tqdm(range(n)):\n",
    "        c1 = cost(k, b)\n",
    "        \n",
    "        k_step = random.random()*2 - 1 # Небольшая случайная добавка к коэффициенту k\n",
    "        c2 = cost(k + k_step, b)\n",
    "        if c2 < c1: # если мы идём в правильном направлении\n",
    "            delta_k = k_step\n",
    "        else:\n",
    "            delta_k = - k_step # попробуем шагнуть в противоположную сторону\n",
    "        \n",
    "        \n",
    "        \n",
    "        b_step = random.random()*2 - 1\n",
    "        c2 = cost(k, b + b_step)\n",
    "        if c2 < c1: # Уменьшилась ли ошибка?\n",
    "            delta_b = b_step\n",
    "        else:\n",
    "            delta_b = - b_step # попробуем шагнуть в противоположную сторону\n",
    "        \n",
    "        \n",
    "        # updating weights\n",
    "        k = k + delta_k\n",
    "        b = b + delta_b\n",
    "    print(\"This was training_2\")\n",
    "    return (k, b)"
   ]
  },
  {
   "cell_type": "code",
   "execution_count": 8,
   "metadata": {},
   "outputs": [
    {
     "name": "stderr",
     "output_type": "stream",
     "text": []
    },
    {
     "name": "stdout",
     "output_type": "stream",
     "text": [
      "This was training_2\n",
      "********************************************************************************\n",
      " *** Получили k = 10.083740534967983  и b = 113.89385506559354 ***\n",
      "********************************************************************************\n",
      "Эталонное k = 9.057899  и b = 113.646816\n",
      "Вычисление выполнялось 4.02949333190918 сек\n"
     ]
    }
   ],
   "source": [
    "# Running training_2\n",
    "start = time.time()\n",
    "k, b = training_2(k0=1, b0=1, n=100000)\n",
    "print(\"*\" * 80)\n",
    "print(\" *** Получили k =\", k, \" и b =\", b, \"***\")\n",
    "print(\"*\" * 80)\n",
    "print(\"Эталонное k = 9.057899  и b = 113.646816\")\n",
    "print(\"Вычисление выполнялось\", time.time() - start, \"сек\")"
   ]
  },
  {
   "cell_type": "markdown",
   "metadata": {},
   "source": [
    "<h3>Избавляемся от случайного шага - используем маленькое число</h3>"
   ]
  },
  {
   "cell_type": "code",
   "execution_count": 9,
   "metadata": {
    "collapsed": true
   },
   "outputs": [],
   "source": [
    "# Избавляемся от случайного шага - используем маленькое число\n",
    "def training_3(k0, b0, n):\n",
    "    k, b = k0, b0\n",
    "    for i in tqdm(range(n)):\n",
    "        c1 = cost(k, b)\n",
    "        \n",
    "        k_step = 0.1\n",
    "        c2 = cost(k + k_step, b)\n",
    "        if c2 < c1: # если мы идём в правильном направлении\n",
    "            delta_k = k_step\n",
    "        else:\n",
    "            delta_k = - k_step # попробуем шагнуть в противоположную сторону\n",
    "        \n",
    "        \n",
    "        \n",
    "        b_step = 0.1\n",
    "        c2 = cost(k, b + b_step)\n",
    "        if c2 < c1: # Уменьшилась ли ошибка?\n",
    "            delta_b = b_step\n",
    "        else:\n",
    "            delta_b = - b_step # попробуем шагнуть в противоположную сторону\n",
    "        \n",
    "        \n",
    "        # updating weights\n",
    "        k = k + delta_k\n",
    "        b = b + delta_b\n",
    "    print(\"This was training_3\")\n",
    "    return (k, b)"
   ]
  },
  {
   "cell_type": "markdown",
   "metadata": {},
   "source": [
    "<h3>Запускаем <u>training_3</u> </h3>"
   ]
  },
  {
   "cell_type": "code",
   "execution_count": 10,
   "metadata": {},
   "outputs": [
    {
     "name": "stderr",
     "output_type": "stream",
     "text": []
    },
    {
     "name": "stdout",
     "output_type": "stream",
     "text": [
      "This was training_3\n",
      "********************************************************************************\n",
      " *** Получили k = 9.099999999999984  и b = 112.69999999999787 ***\n",
      "********************************************************************************\n",
      "Эталонное k = 9.058 и b = 113.65\n",
      "Вычисление выполнялось 3.858478307723999 сек\n"
     ]
    }
   ],
   "source": [
    "start = time.time()\n",
    "k, b = training_3(0.1, 0.3, 100000)\n",
    "print(\"*\" * 80)\n",
    "print(\" *** Получили k =\", k, \" и b =\", b, \"***\")\n",
    "print(\"*\" * 80)\n",
    "print(\"Эталонное k = 9.057899  и b = 113.646816\")\n",
    "print(\"Вычисление выполнялось\", time.time() - start, \"сек\")"
   ]
  },
  {
   "cell_type": "markdown",
   "metadata": {},
   "source": [
    "<h3>Более элегантно</h3>"
   ]
  },
  {
   "cell_type": "code",
   "execution_count": 11,
   "metadata": {
    "collapsed": true
   },
   "outputs": [],
   "source": [
    "def sgn(x):\n",
    "    if x == 0: return 0\n",
    "    if x > 0: return 1\n",
    "    if x < 0: return -1"
   ]
  },
  {
   "cell_type": "code",
   "execution_count": 15,
   "metadata": {
    "collapsed": true
   },
   "outputs": [],
   "source": [
    "# Избавляемся от случайного шага\n",
    "# и делаем шаги пропорциональными изменению функции: если функция изменилась сильно - значит ускоряемся в том направлении\n",
    "def training_4(k0, b0, n, learning_rate=0.1):\n",
    "    k, b = k0, b0\n",
    "    small = 0.001 # Величина маленького \"шажка\"\n",
    "    for i in tqdm(range(n)):\n",
    "        c0 = cost(k, b)\n",
    "   \n",
    "        c1 = cost(k + small, b)\n",
    "        # Если c1 уменьшилась, значит (c0 - c1) положительно\n",
    "        # Эта разница тем больше, чем сильнее уменьшилась ошибка\n",
    "        # Сделаем так: чем больше это (c0 - c1) - тем больше мы увеличим k\n",
    "        #k = k + (c0 - c1) * learning_rate/small # Или лучше записать k = k - (c1 - c0)*learning_rate, что есть почти производная\n",
    "        k = k + small*sgn(c0 - c1)\n",
    "        \n",
    "        c1 = cost(k, b + small)\n",
    "        b = b + small*sgn(c0 - c1)\n",
    "        \n",
    "        #b = b + (c0 - c1) * learning_rate / small # Или лучше записать b = b - (c1 - c0)*learning_rate, что есть почти производная\n",
    "     \n",
    "       \n",
    "        \n",
    "    print(\"This was training_4\")\n",
    "    return (k, b)"
   ]
  },
  {
   "cell_type": "code",
   "execution_count": 16,
   "metadata": {},
   "outputs": [
    {
     "name": "stderr",
     "output_type": "stream",
     "text": []
    },
    {
     "name": "stdout",
     "output_type": "stream",
     "text": [
      "This was training_4\n",
      "********************************************************************************\n",
      " *** Получили k = 10.707999999999506  и b = 100.30000000011486 ***\n",
      "********************************************************************************\n",
      "Эталонное k = 9.057899  и b = 113.646816\n",
      "Вычисление выполнялось 3.950056314468384 сек\n"
     ]
    }
   ],
   "source": [
    "start = time.time()\n",
    "k, b = training_4(0.1, 0.3, 100000)\n",
    "print(\"*\" * 80)\n",
    "print(\" *** Получили k =\", k, \" и b =\", b, \"***\")\n",
    "print(\"*\" * 80)\n",
    "print(\"Эталонное k = 9.057899  и b = 113.646816\")\n",
    "print(\"Вычисление выполнялось\", time.time() - start, \"сек\")"
   ]
  },
  {
   "cell_type": "code",
   "execution_count": 6,
   "metadata": {
    "collapsed": true
   },
   "outputs": [],
   "source": [
    "# Тут уже используется в явном виде метод градиентного спуска\n",
    "# Избавляемся от случайного шага\n",
    "# и делаем шаги пропорциональными изменению функции: если функция изменилась сильно - значит ускоряемся в том направлении\n",
    "def training_5(k0, b0, n, learning_rate=0.0001, small=0.01):\n",
    "    k, b = k0, b0\n",
    "    #small - Величина маленького \"шажка\"\n",
    "    for i in tqdm(range(n)):\n",
    "        c0 = cost(k, b)\n",
    "        c_k = cost(k + small, b)\n",
    "        c_b = cost(k, b + small)\n",
    "        \n",
    "        # Если c_k уменьшилась, значит (c0 - c_k) положительно\n",
    "        # Эта разница тем больше, чем сильнее уменьшилась ошибка\n",
    "        # Сделаем так: чем больше это (c0 - c_k) - тем больше мы увеличим k\n",
    "        \n",
    "        k = k + ((c0 - c_k) / small) * learning_rate # Или лучше записать k = k - ((c_k - c0)/small)*learning_rate, что есть почти производная\n",
    "        b = b + ((c0 - c_b) / small) * learning_rate\n",
    "        \n",
    "        \n",
    "     \n",
    "       \n",
    "        \n",
    "    print(\"This was training_5\")\n",
    "    return (k, b)"
   ]
  },
  {
   "cell_type": "markdown",
   "metadata": {},
   "source": [
    "<h3>Запускаем training_5</h3>"
   ]
  },
  {
   "cell_type": "code",
   "execution_count": 7,
   "metadata": {
    "scrolled": false
   },
   "outputs": [
    {
     "name": "stderr",
     "output_type": "stream",
     "text": []
    },
    {
     "name": "stdout",
     "output_type": "stream",
     "text": [
      "This was training_5\n",
      "********************************************************************************\n",
      " *** Получили k = 9.056963780620539  и b = 113.65036741263589 ***\n",
      "********************************************************************************\n",
      "Эталонное k = 9.057899  и b = 113.646816\n",
      "Вычисление выполнялось 0.24903154373168945 сек\n"
     ]
    }
   ],
   "source": [
    "start = time.time()\n",
    "k, b = training_5(1, 1, 2000, learning_rate=0.01, small=0.001)\n",
    "print(\"*\" * 80)\n",
    "print(\" *** Получили k =\", k, \" и b =\", b, \"***\")\n",
    "print(\"*\" * 80)\n",
    "print(\"Эталонное k = 9.057899  и b = 113.646816\")\n",
    "print(\"Вычисление выполнялось\", time.time() - start, \"сек\")\n"
   ]
  },
  {
   "cell_type": "markdown",
   "metadata": {},
   "source": [
    "<h1>Теперь будем использовать аналитически посчитаный градиент</h1>\n"
   ]
  },
  {
   "cell_type": "markdown",
   "metadata": {},
   "source": [
    "Задаём две функции с аналитически посчитаными частными производными\n",
    "$\\frac{\\partial Cost }{\\partial k}$ и $\\frac{\\partial Cost }{\\partial b}$"
   ]
  },
  {
   "cell_type": "markdown",
   "metadata": {},
   "source": [
    "Функция cost_prime_over_k - возвращает частную производную $\\frac{\\partial Cost }{\\partial k}$ \n",
    "<br>Ф-я cost_prime_over_b - возвращает частную производную $\\frac{\\partial Cost }{\\partial b}$"
   ]
  },
  {
   "cell_type": "code",
   "execution_count": 8,
   "metadata": {},
   "outputs": [],
   "source": [
    "def cost_prime_over_k(k, b): \n",
    "    \"\"\" Возвращает значение производной функции ошибки по k\"\"\"\n",
    "    s = 0 # \n",
    "    # Пробегаемся по всем набору данных\n",
    "    m = len(x)\n",
    "    for i in range(0, m):\n",
    "        # Рассматриваем пару чисел x & y c номером i\n",
    "        # Есть у нас x[i] и y[i]\n",
    "        s = s + (y[i] - k*x[i] - b)*(-x[i])\n",
    "    return s * 2 / m \n",
    "\n",
    "def cost_prime_over_b(k, b):\n",
    "    \"\"\" Возвращает значение производной функции ошибки по b\"\"\"\n",
    "    s = 0 # \n",
    "    # Пробегаемся по всем набору данных\n",
    "    m = len(x)\n",
    "    for i in range(0, m):\n",
    "        # Рассматриваем пару чисел x & y c номером i\n",
    "        # Есть у нас x[i] и y[i]\n",
    "        s = s + (y[i] - k*x[i] - b)*(-1)\n",
    "    return s * 2 / m "
   ]
  },
  {
   "cell_type": "markdown",
   "metadata": {},
   "source": [
    "Демонстрируем, что способы с определённой точностью эквивалентны:"
   ]
  },
  {
   "cell_type": "code",
   "execution_count": 9,
   "metadata": {},
   "outputs": [
    {
     "name": "stdout",
     "output_type": "stream",
     "text": [
      "Численно посчитаная производная по k: 48.40492999974799\n",
      "'Честная' производная по k: 48.4\n",
      "\n",
      "Численно посчитаная производная: 4.200100000169016\n",
      "'Честная' производная: 4.2\n"
     ]
    }
   ],
   "source": [
    "k = 10\n",
    "b = 110\n",
    "d = 0.0001\n",
    "print(\"Численно посчитаная производная по k:\", (cost(k + d, b) - cost(k, b)) / d)\n",
    "print(\"'Честная' производная по k:\", cost_prime_over_k(k, b))\n",
    "print()\n",
    "print(\"Численно посчитаная производная:\", (cost(k, b + d) - cost(k, b)) / d)\n",
    "print(\"'Честная' производная:\", cost_prime_over_b(k, b))"
   ]
  },
  {
   "cell_type": "markdown",
   "metadata": {},
   "source": [
    "Теперь задействуем эти две функции в процессе обучения:"
   ]
  },
  {
   "cell_type": "code",
   "execution_count": 10,
   "metadata": {
    "collapsed": true
   },
   "outputs": [],
   "source": [
    "# Тут уже используется в явном виде метод градиентного спуска\n",
    "def training_6(k0, b0, n, learning_rate=0.0001, small=0.01):\n",
    "    k, b = k0, b0\n",
    "    for i in tqdm(range(n)):\n",
    "        k = k - cost_prime_over_k(k, b) * learning_rate\n",
    "        b = b - cost_prime_over_b(k, b) * learning_rate\n",
    "        \n",
    "    print(\"This was training_6\")\n",
    "    return (k, b)"
   ]
  },
  {
   "cell_type": "markdown",
   "metadata": {},
   "source": [
    "<h3>Запускаем training_6</h3>"
   ]
  },
  {
   "cell_type": "code",
   "execution_count": 11,
   "metadata": {},
   "outputs": [
    {
     "name": "stderr",
     "output_type": "stream",
     "text": []
    },
    {
     "name": "stdout",
     "output_type": "stream",
     "text": [
      "This was training_6\n",
      "********************************************************************************\n",
      " *** Получили k = 9.057923466327631  и b = 113.6466195223948 ***\n",
      "********************************************************************************\n",
      "Эталонное k = 9.057899  и b = 113.646816\n",
      "Вычисление выполнялось 0.08000969886779785 сек\n"
     ]
    }
   ],
   "source": [
    "start = time.time()\n",
    "k, b = training_6(10, 110, 2000, learning_rate=0.01, small=0.001)\n",
    "print(\"*\" * 80)\n",
    "print(\" *** Получили k =\", k, \" и b =\", b, \"***\")\n",
    "print(\"*\" * 80)\n",
    "print(\"Эталонное k = 9.057899  и b = 113.646816\")\n",
    "print(\"Вычисление выполнялось\", time.time() - start, \"сек\")"
   ]
  },
  {
   "cell_type": "code",
   "execution_count": 6,
   "metadata": {},
   "outputs": [
    {
     "data": {
      "text/plain": [
       "79.3"
      ]
     },
     "execution_count": 6,
     "metadata": {},
     "output_type": "execute_result"
    }
   ],
   "source": [
    "cost(10, 100)"
   ]
  },
  {
   "cell_type": "code",
   "execution_count": 7,
   "metadata": {},
   "outputs": [
    {
     "data": {
      "text/plain": [
       "79.22644930000004"
      ]
     },
     "execution_count": 7,
     "metadata": {},
     "output_type": "execute_result"
    }
   ],
   "source": [
    "cost(10 + 0.001, 100)"
   ]
  },
  {
   "cell_type": "code",
   "execution_count": 8,
   "metadata": {},
   "outputs": [
    {
     "data": {
      "text/plain": [
       "79.28420099999994"
      ]
     },
     "execution_count": 8,
     "metadata": {},
     "output_type": "execute_result"
    }
   ],
   "source": [
    "cost(10, 100 + 0.001)"
   ]
  },
  {
   "cell_type": "code",
   "execution_count": 12,
   "metadata": {},
   "outputs": [
    {
     "data": {
      "text/plain": [
       "-73.60000751077678"
      ]
     },
     "execution_count": 12,
     "metadata": {},
     "output_type": "execute_result"
    }
   ],
   "source": [
    "# Производная по первому аргументу\n",
    "(cost(10 + 0.00000001, 100) - cost(10, 100) )/0.00000001"
   ]
  },
  {
   "cell_type": "code",
   "execution_count": 10,
   "metadata": {},
   "outputs": [
    {
     "data": {
      "text/plain": [
       "-73.6"
      ]
     },
     "execution_count": 10,
     "metadata": {},
     "output_type": "execute_result"
    }
   ],
   "source": [
    "cost_prime_over_k(10, 100)"
   ]
  },
  {
   "cell_type": "code",
   "execution_count": null,
   "metadata": {
    "collapsed": true
   },
   "outputs": [],
   "source": []
  }
 ],
 "metadata": {
  "kernelspec": {
   "display_name": "Python 3",
   "language": "python",
   "name": "python3"
  },
  "language_info": {
   "codemirror_mode": {
    "name": "ipython",
    "version": 3
   },
   "file_extension": ".py",
   "mimetype": "text/x-python",
   "name": "python",
   "nbconvert_exporter": "python",
   "pygments_lexer": "ipython3",
   "version": "3.6.9"
  }
 },
 "nbformat": 4,
 "nbformat_minor": 2
}
